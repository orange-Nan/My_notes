{
 "cells": [
  {
   "cell_type": "code",
   "execution_count": 1,
   "id": "7a0684e3",
   "metadata": {},
   "outputs": [
    {
     "name": "stdout",
     "output_type": "stream",
     "text": [
      "True\n",
      "['A', 'C', 'E']\n"
     ]
    }
   ],
   "source": [
    "graph1 = {\n",
    "    \"A\":[\"B\",\"C\"],\n",
    "    \"B\":[\"C\",\"D\"],\n",
    "    \"C\":[\"E\",\"F\"],\n",
    "    \"D\":[\"E\"],\n",
    "    \"E\":[],\n",
    "    \"F\":[\"E\"]\n",
    "}\n",
    "\n",
    "def get_path(graph,list1,s1,s2):\n",
    "    t = list1[-1]\n",
    "    path = [t]\n",
    "    list1 = list1[:-1]\n",
    "    while list1:\n",
    "        for i in list1:\n",
    "            if t in graph[i]:\n",
    "                t = i\n",
    "                path.append(i)\n",
    "                list1 = list1[:-1]\n",
    "            else:\n",
    "                list1 = list1[:-1]\n",
    "    path = path[::-1]\n",
    "    path.append(s2)\n",
    "    return path\n",
    "\n",
    "def BFS(graph,start,end):\n",
    "    search = [start]\n",
    "    searched = []\n",
    "    while search:\n",
    "        s = search[0]\n",
    "        search = search[1:]\n",
    "        if s not in searched:\n",
    "            if end not in graph[s]:\n",
    "                search += graph[s]\n",
    "                searched.append(s)\n",
    "            else:\n",
    "                searched.append(s)\n",
    "                print('True')\n",
    "                return searched\n",
    "\n",
    "s1 = BFS(graph1,'A','E')\n",
    "p1 = get_path(graph1,s1,'A','E')\n",
    "print(p1)"
   ]
  }
 ],
 "metadata": {
  "kernelspec": {
   "display_name": "Python 3 (ipykernel)",
   "language": "python",
   "name": "python3"
  },
  "language_info": {
   "codemirror_mode": {
    "name": "ipython",
    "version": 3
   },
   "file_extension": ".py",
   "mimetype": "text/x-python",
   "name": "python",
   "nbconvert_exporter": "python",
   "pygments_lexer": "ipython3",
   "version": "3.9.7"
  }
 },
 "nbformat": 4,
 "nbformat_minor": 5
}
