{
 "cells": [
  {
   "cell_type": "markdown",
   "id": "2cacfd1b",
   "metadata": {},
   "source": [
    "数字Number类型转换\n",
    "1.int(x)  将x转换为一个整数\n",
    "2.float(x)  将x转换为一个浮点数\n",
    "3.str(x)  将x转换为字符串"
   ]
  },
  {
   "cell_type": "markdown",
   "id": "8703e75b",
   "metadata": {},
   "source": [
    "math模块"
   ]
  },
  {
   "cell_type": "markdown",
   "id": "52344b17",
   "metadata": {},
   "source": [
    "python数学函数\n",
    "1.abs(x)  返回x的绝对值\n",
    "fabs(x)  返回x的绝对值（浮点数）\n",
    "2.ceil(x)  返回数字的上入整数\n",
    "3.cmp(x,y)  如果 x<y返回-1，x==y返回0，x>y返回1\n",
    "4.exp(x)  返回e的x次幂\n",
    "5.log(x)  返回x的对数（默认以e为底）\n",
    "6.max(x1,x2,...)  最大值\n",
    "7.min(x1,x2,...)  最小值\n",
    "8.pow(x,y)  x的y次方（x^y）\n",
    "9.round(x)  浮点数四舍五入\n",
    "10.sqrt(x)  x的平方根"
   ]
  },
  {
   "cell_type": "markdown",
   "id": "605a99d9",
   "metadata": {},
   "source": [
    "python数学常量\n",
    "1.pi  圆周率Π\n",
    "2.e  自然常数e"
   ]
  },
  {
   "cell_type": "markdown",
   "id": "4f73f41d",
   "metadata": {},
   "source": [
    "python三角函数\n",
    "1.sin(x)  返回x弧度的正弦值\n",
    "...\n",
    "2.radians(x)  将角度转换为弧度\n",
    "3.degrees(x)  将弧度转换为角度,如degrees(math.pi/2)，返回90.0"
   ]
  },
  {
   "cell_type": "code",
   "execution_count": 3,
   "id": "a0b67a76",
   "metadata": {},
   "outputs": [
    {
     "name": "stdout",
     "output_type": "stream",
     "text": [
      "random:  0.05024230026713905\n"
     ]
    }
   ],
   "source": [
    "#python随机数函数\n",
    "import random\n",
    "\n",
    "# 生成一个随机数，random()方法返回随机生成的一个实数，它在[0,1)范围内。\n",
    "print('random: ',random.random())"
   ]
  }
 ],
 "metadata": {
  "kernelspec": {
   "display_name": "Python 3 (ipykernel)",
   "language": "python",
   "name": "python3"
  },
  "language_info": {
   "codemirror_mode": {
    "name": "ipython",
    "version": 3
   },
   "file_extension": ".py",
   "mimetype": "text/x-python",
   "name": "python",
   "nbconvert_exporter": "python",
   "pygments_lexer": "ipython3",
   "version": "3.9.7"
  }
 },
 "nbformat": 4,
 "nbformat_minor": 5
}
