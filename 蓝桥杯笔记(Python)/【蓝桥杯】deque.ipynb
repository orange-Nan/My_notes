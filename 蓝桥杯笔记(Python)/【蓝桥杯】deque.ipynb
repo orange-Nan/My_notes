{
 "cells": [
  {
   "cell_type": "markdown",
   "id": "7d11b848",
   "metadata": {},
   "source": [
    "deque实现了两端都可以操作的队列，相当于双端队列，与列表很相似"
   ]
  },
  {
   "cell_type": "code",
   "execution_count": 10,
   "id": "dcb5207e",
   "metadata": {},
   "outputs": [],
   "source": [
    "from collections import deque\n",
    "\n",
    "#创建deque\n",
    "d1 = deque([1,2,3])"
   ]
  },
  {
   "cell_type": "code",
   "execution_count": 11,
   "id": "8114c457",
   "metadata": {},
   "outputs": [
    {
     "name": "stdout",
     "output_type": "stream",
     "text": [
      "deque(['A', 1, 2, 3, 'a'])\n",
      "deque(['B', 'A', 1, 2, 3, 'a', 'b', 'c'])\n",
      "deque(['B', 'A', 'T', 1, 2, 3, 'a', 'b', 'c'])\n"
     ]
    }
   ],
   "source": [
    "#单个数据入队\n",
    "d1.append('a')\n",
    "d1.appendleft('A')\n",
    "print(d1)\n",
    "\n",
    "#可迭代对象入队\n",
    "d1.extend(['b','c'])\n",
    "d1.extendleft(['B'])\n",
    "print(d1)\n",
    "\n",
    "#指定位置插入数据\n",
    "d1.insert(2,'T')  #插在2的位置（左数第3位）\n",
    "print(d1)"
   ]
  },
  {
   "cell_type": "code",
   "execution_count": 12,
   "id": "5bb3be93",
   "metadata": {},
   "outputs": [
    {
     "name": "stdout",
     "output_type": "stream",
     "text": [
      "c\n",
      "B\n",
      "deque(['A', 'T', 1, 2, 3, 'a', 'b'])\n"
     ]
    }
   ],
   "source": [
    "#出队\n",
    "print(d1.pop()) #将队列尾部的数据弹出，并作为返回值\n",
    "print(d1.popleft())  #将队列头部的数据弹出，并作为返回值\n",
    "print(d1)"
   ]
  },
  {
   "cell_type": "code",
   "execution_count": 13,
   "id": "a7a82568",
   "metadata": {},
   "outputs": [
    {
     "name": "stdout",
     "output_type": "stream",
     "text": [
      "deque(['A', 'T', 1, 2, 3, 'a', 'b'])\n"
     ]
    }
   ],
   "source": [
    "#复制队列\n",
    "d2 = d1.copy()\n",
    "print(d2)"
   ]
  },
  {
   "cell_type": "code",
   "execution_count": 14,
   "id": "492e727a",
   "metadata": {},
   "outputs": [
    {
     "name": "stdout",
     "output_type": "stream",
     "text": [
      "0\n",
      "1\n"
     ]
    }
   ],
   "source": [
    "#指定值的索引\n",
    "print(d1.index('A'))\n",
    "#指定值的数量\n",
    "print(d1.count('A'))"
   ]
  },
  {
   "cell_type": "code",
   "execution_count": 15,
   "id": "b39f54cc",
   "metadata": {},
   "outputs": [
    {
     "name": "stdout",
     "output_type": "stream",
     "text": [
      "deque(['b', 'a', 3, 2, 1, 'T', 'A'])\n"
     ]
    }
   ],
   "source": [
    "#翻转\n",
    "d2.reverse()\n",
    "print(d2)"
   ]
  },
  {
   "cell_type": "code",
   "execution_count": 16,
   "id": "ee6b9d63",
   "metadata": {},
   "outputs": [
    {
     "name": "stdout",
     "output_type": "stream",
     "text": [
      "deque(['b', 'a', 3, 2, 1, 'A'])\n",
      "deque([])\n"
     ]
    }
   ],
   "source": [
    "#删除\n",
    "d2.remove('T')\n",
    "print(d2)\n",
    "\n",
    "#全部清空\n",
    "d2.clear()\n",
    "print(d2)"
   ]
  },
  {
   "cell_type": "code",
   "execution_count": 17,
   "id": "59366c73",
   "metadata": {},
   "outputs": [
    {
     "name": "stdout",
     "output_type": "stream",
     "text": [
      "deque([2, 3, 4, 5, 'A'], maxlen=5)\n"
     ]
    }
   ],
   "source": [
    "#指定队列的长度\n",
    "d3 = deque(maxlen=5)\n",
    "d3.extend([1,2,3,4,5])\n",
    "d3.append('A')\n",
    "print(d3)"
   ]
  }
 ],
 "metadata": {
  "kernelspec": {
   "display_name": "Python 3 (ipykernel)",
   "language": "python",
   "name": "python3"
  },
  "language_info": {
   "codemirror_mode": {
    "name": "ipython",
    "version": 3
   },
   "file_extension": ".py",
   "mimetype": "text/x-python",
   "name": "python",
   "nbconvert_exporter": "python",
   "pygments_lexer": "ipython3",
   "version": "3.9.7"
  }
 },
 "nbformat": 4,
 "nbformat_minor": 5
}
