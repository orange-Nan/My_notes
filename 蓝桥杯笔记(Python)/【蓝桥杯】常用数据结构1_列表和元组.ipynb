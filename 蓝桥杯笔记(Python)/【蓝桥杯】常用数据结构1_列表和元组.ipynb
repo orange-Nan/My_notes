{
 "cells": [
  {
   "cell_type": "markdown",
   "id": "e6fafed1",
   "metadata": {},
   "source": [
    "元组和列表，他们的唯一区别就是元组不能修改，列表可以修改\n",
    "tup1 = (1,2,'h')\n",
    "list1 = [1,2,'h]"
   ]
  },
  {
   "cell_type": "code",
   "execution_count": 2,
   "id": "28862c9a",
   "metadata": {},
   "outputs": [
    {
     "name": "stdout",
     "output_type": "stream",
     "text": [
      "physics\n",
      "1997\n",
      "[2, 3, 4]\n",
      "[4, 5]\n",
      "[0, 0, 0, 0]\n"
     ]
    }
   ],
   "source": [
    "#创建列表\n",
    "list1 = ['physics','chemistry',1997,2000]\n",
    "list2 = [1,2,3,4,5]\n",
    "list3 = [0]*4\n",
    "\n",
    "#访问列表中的值&列表截取\n",
    "print(list1[0])\n",
    "print(list1[-2]) #倒数第二个元素\n",
    "print(list2[1:4]) \n",
    "print(list2[3:])\n",
    "print(list3)"
   ]
  },
  {
   "cell_type": "code",
   "execution_count": 3,
   "id": "035f6cf7",
   "metadata": {},
   "outputs": [
    {
     "name": "stdout",
     "output_type": "stream",
     "text": [
      "['physics', 'chemistry', 1997, 2000, 'Google']\n",
      "[1, 2, 4, 5]\n",
      "['physics', 'chemistry', 1997, 2000, 'Google', 1, 2, 4, 5]\n",
      "[5, 4, 2, 1, 'Google', 2000, 1997, 'chemistry', 'physics']\n"
     ]
    }
   ],
   "source": [
    "#添加列表元素\n",
    "list1.append('Google')\n",
    "\n",
    "#删除列表元素\n",
    "del list2[2]\n",
    "\n",
    "#列表拼接\n",
    "list4 = list1+list2\n",
    "\n",
    "#翻转列表\n",
    "list5 = list4[::-1]\n",
    "\n",
    "print(list1)\n",
    "print(list2)\n",
    "print(list4)\n",
    "print(list5)"
   ]
  },
  {
   "cell_type": "code",
   "execution_count": 10,
   "id": "9f800b47",
   "metadata": {},
   "outputs": [
    {
     "name": "stdout",
     "output_type": "stream",
     "text": [
      "len 4\n",
      "True\n",
      "physics\n",
      "chemistry\n",
      "1997\n",
      "2000\n"
     ]
    }
   ],
   "source": [
    "#列表长度\n",
    "print('len',len(list1))\n",
    "\n",
    "#判断元素是否在列表中(也可以使用not in)\n",
    "if 2 in list2:\n",
    "    print('True')\n",
    "\n",
    "#迭代\n",
    "for x in list1:\n",
    "    print(x)"
   ]
  },
  {
   "cell_type": "markdown",
   "id": "10d662ce",
   "metadata": {},
   "source": [
    "python列表内置函数\n",
    "1.list1==list2  比较两个列表的元素\n",
    "2.len(list)  列表元素个数\n",
    "3.max(list)  返回列表元素最大值\n",
    "4.min(list)  返回列表元素最小值\n",
    "5.list(seq)  将元组转换为列表\n",
    "6.tuple(seq)  将列表转换为元组"
   ]
  },
  {
   "cell_type": "markdown",
   "id": "329c222b",
   "metadata": {},
   "source": [
    "python列表内置方法\n",
    "1.list.append(obj)  在列表末尾添加新的对象\n",
    "2.list.count(obj)  统计某个元素在列表中出现的次数\n",
    "3.list.extend(seq)  在列表末尾一次性添加另一个序列的多个值（扩展列表）\n",
    "4.list.index(obj) 从列表中找出某个值第一个匹配项的索引位置\n",
    "5.list.insert(index,obj)  将指定对象插入列表的指定位置\n",
    "6.list.pop(index)  移除列表中的一个元素（默认为最后一个元素），并返回该元素的值\n",
    "7.list.remove(obj) 移除列表中某个值的第一个匹配项\n",
    "8.list[::-1]或list.reverse() 反向列表元素\n",
    "9.list.sort(cmp=None,key=None,reverse=False) 对原列表进行排序"
   ]
  },
  {
   "cell_type": "code",
   "execution_count": 18,
   "id": "26f27aef",
   "metadata": {},
   "outputs": [
    {
     "name": "stdout",
     "output_type": "stream",
     "text": [
      "['121', '213', 'Facebook', 'Google', 'Runoob', 'Taobao']\n",
      "['Taobao', 'Runoob', 'Google', 'Facebook', '213', '121']\n",
      "[(4, 1), (2, 2), (1, 3), (3, 4)]\n"
     ]
    }
   ],
   "source": [
    "#sort方法\n",
    "aList = ['213','121','Google', 'Runoob', 'Taobao', 'Facebook']\n",
    "aList.sort()\n",
    "print(aList)\n",
    "\n",
    "#降序输出\n",
    "aList.sort(reverse=True)\n",
    "print(aList)\n",
    "\n",
    "#指定元素排序\n",
    "def takeSecond(elem):\n",
    "    return elem[1]\n",
    "\n",
    "random = [(2,2),(3,4),(4,1),(1,3)]\n",
    "random.sort(key=takeSecond)\n",
    "print(random)"
   ]
  }
 ],
 "metadata": {
  "kernelspec": {
   "display_name": "Python 3 (ipykernel)",
   "language": "python",
   "name": "python3"
  },
  "language_info": {
   "codemirror_mode": {
    "name": "ipython",
    "version": 3
   },
   "file_extension": ".py",
   "mimetype": "text/x-python",
   "name": "python",
   "nbconvert_exporter": "python",
   "pygments_lexer": "ipython3",
   "version": "3.9.7"
  }
 },
 "nbformat": 4,
 "nbformat_minor": 5
}
