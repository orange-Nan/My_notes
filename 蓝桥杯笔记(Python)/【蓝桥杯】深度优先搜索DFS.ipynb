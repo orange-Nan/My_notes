{
 "cells": [
  {
   "cell_type": "code",
   "execution_count": 1,
   "id": "b54ffef9",
   "metadata": {},
   "outputs": [
    {
     "name": "stdout",
     "output_type": "stream",
     "text": [
      "True\n",
      "['A', 'D', 'C', 'H', 'F']\n"
     ]
    }
   ],
   "source": [
    "graph1 = {\n",
    "    \"A\":[\"B\",\"C\",\"D\"],\n",
    "    \"B\":[\"E\"],\n",
    "    \"C\":[\"D\",\"G\",\"F\",\"H\"],\n",
    "    \"D\":[],\n",
    "    \"E\":[\"H\"],\n",
    "    \"F\":[\"H\",\"I\"],\n",
    "    \"G\":[\"J\"],\n",
    "    \"H\":[],\n",
    "    \"I\":[],\n",
    "    \"J\":[]\n",
    "}\n",
    "\n",
    "def DFS(graph,start,end):\n",
    "    search = [start]\n",
    "    searched = []\n",
    "    while search:\n",
    "        s = search[-1]\n",
    "        search = search[:-1]\n",
    "        if s not in searched:\n",
    "            if end not in graph[s]:\n",
    "                search += graph[s]\n",
    "                searched.append(s)\n",
    "            else:\n",
    "                searched.append(s)\n",
    "                print('True')\n",
    "                return searched\n",
    "        \n",
    "s1 = DFS(graph1,'A','I')\n",
    "print(s1)"
   ]
  },
  {
   "cell_type": "code",
   "execution_count": null,
   "id": "f51e7b61",
   "metadata": {},
   "outputs": [],
   "source": []
  }
 ],
 "metadata": {
  "kernelspec": {
   "display_name": "Python 3 (ipykernel)",
   "language": "python",
   "name": "python3"
  },
  "language_info": {
   "codemirror_mode": {
    "name": "ipython",
    "version": 3
   },
   "file_extension": ".py",
   "mimetype": "text/x-python",
   "name": "python",
   "nbconvert_exporter": "python",
   "pygments_lexer": "ipython3",
   "version": "3.9.7"
  }
 },
 "nbformat": 4,
 "nbformat_minor": 5
}
