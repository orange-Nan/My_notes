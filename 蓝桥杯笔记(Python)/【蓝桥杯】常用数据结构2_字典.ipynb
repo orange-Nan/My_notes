{
 "cells": [
  {
   "cell_type": "code",
   "execution_count": 3,
   "id": "b2e45e29",
   "metadata": {},
   "outputs": [
    {
     "name": "stdout",
     "output_type": "stream",
     "text": [
      "['Tom', 'Mary', 'Peter']\n"
     ]
    }
   ],
   "source": [
    "#创建字典\n",
    "dict_name = ['Tom','Mary','Peter']\n",
    "dict_age = [6,7,3]\n",
    "dict_class = ['Class1','Class1','Class2']\n",
    "my_dict = {'Name':dict_name,'Age':dict_age,'Class': dict_class}\n",
    "\n",
    "#访问字典\n",
    "print(my_dict['Name'])"
   ]
  },
  {
   "cell_type": "code",
   "execution_count": 5,
   "id": "2595124c",
   "metadata": {},
   "outputs": [
    {
     "name": "stdout",
     "output_type": "stream",
     "text": [
      "{'Name': ['Tom', 'Mary', 'Peter'], 'Age': [8, 9, 10], 'School': ['S1', 'S1', 'S2']}\n"
     ]
    }
   ],
   "source": [
    "#修改&添加字典元素\n",
    "my_dict['Age'] = [8,9,10] \n",
    "my_dict['School'] = ['S1','S1','S2']\n",
    "\n",
    "#删除字典元素\n",
    "del my_dict['Class']\n",
    "\n",
    "print(my_dict)"
   ]
  },
  {
   "cell_type": "code",
   "execution_count": 13,
   "id": "c9e29110",
   "metadata": {},
   "outputs": [
    {
     "name": "stdout",
     "output_type": "stream",
     "text": [
      "dict_keys(['Name', 'Age', 'School'])\n",
      "[['Tom', 'Mary', 'Peter'], [8, 9, 10], ['S1', 'S1', 'S2']]\n",
      "['Tom', 'Mary', 'Peter']\n",
      "Tom\n"
     ]
    }
   ],
   "source": [
    "#keys&values\n",
    "print(my_dict.keys())\n",
    "\n",
    "list1 = list(my_dict.values())\n",
    "print(list1)\n",
    "print(list1[0])\n",
    "print(list1[0][0])"
   ]
  },
  {
   "cell_type": "code",
   "execution_count": 17,
   "id": "bb869a0c",
   "metadata": {},
   "outputs": [
    {
     "name": "stdout",
     "output_type": "stream",
     "text": [
      "0 8\n",
      "1 9\n",
      "2 10\n",
      "111 1 8\n",
      "111 2 9\n",
      "111 3 10\n"
     ]
    }
   ],
   "source": [
    "#enumerate()函数，在同时需要index和value值的时候可以使用enumerate\n",
    "for i,age in enumerate(my_dict['Age']):\n",
    "    print(i,age)\n",
    "\n",
    "for i,age in enumerate(my_dict['Age'],1):\n",
    "    print('111',i,age)"
   ]
  },
  {
   "cell_type": "markdown",
   "id": "053a2c92",
   "metadata": {},
   "source": [
    "python字典内置函数\n",
    "1.==  比较两个字典元素\n",
    "2.len(dict)  计算字典元素个数（key的个数）\n",
    "3.str(dict)  输出字典可打印的字符串表示\n",
    "4.type(variable)  返回输入的变量类型，如果变量是字典就返回字典类型"
   ]
  },
  {
   "cell_type": "markdown",
   "id": "66ac8751",
   "metadata": {},
   "source": [
    "python字典内置方法\n",
    "1.dict.clear() 删除字典内所有元素\n",
    "2.dict.copy() 返回一个字典的浅复制\n",
    "3.dict.get(key)  返回指定键的值，如果值不在字典中返回default值\n",
    "4.dict.has_key(key)  如果键在字典dict里返回true，否则返回false\n",
    "5.dict.items()  以列表返回可遍历的(键, 值) 元组数组\n",
    "6.pop(key[,default])  删除字典给定键 key 所对应的值，返回值为被删除的值。key值必须给出。 否则，返回default值\n",
    "......"
   ]
  },
  {
   "cell_type": "code",
   "execution_count": 15,
   "id": "e627ae19",
   "metadata": {},
   "outputs": [
    {
     "name": "stdout",
     "output_type": "stream",
     "text": [
      "dict_items([('Name', ['Tom', 'Mary', 'Peter']), ('Age', [8, 9, 10]), ('School', ['S1', 'S1', 'S2'])])\n"
     ]
    }
   ],
   "source": [
    "print(my_dict.items())"
   ]
  }
 ],
 "metadata": {
  "kernelspec": {
   "display_name": "Python 3 (ipykernel)",
   "language": "python",
   "name": "python3"
  },
  "language_info": {
   "codemirror_mode": {
    "name": "ipython",
    "version": 3
   },
   "file_extension": ".py",
   "mimetype": "text/x-python",
   "name": "python",
   "nbconvert_exporter": "python",
   "pygments_lexer": "ipython3",
   "version": "3.9.7"
  }
 },
 "nbformat": 4,
 "nbformat_minor": 5
}
