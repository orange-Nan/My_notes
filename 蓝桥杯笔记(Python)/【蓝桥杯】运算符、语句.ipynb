{
 "cells": [
  {
   "cell_type": "markdown",
   "id": "2290323d",
   "metadata": {},
   "source": [
    "Python算术运算符\n",
    "1.%取模(mod)  除法的余数\n",
    "2.//整除  除法的整数\n",
    "3.**幂  x的y次幂\n",
    "...\n",
    "\n",
    "Python比较运算符\n",
    "1.==\n",
    "2.!=\n",
    "3.>=，<=，<，>\n",
    "\n",
    "Python赋值运算符\n",
    "1.=\n",
    "2.+=，-=，*=，...\n",
    "\n",
    "Python位运算符\n",
    "&，|，^，~，...\n",
    "按位运算符是把数字看作二进制来进行计算的\n",
    "\n",
    "Python逻辑运算符\n",
    "and，or，not\n",
    "\n",
    "Python成员运算符\n",
    "in，not in\n",
    "\n",
    "Python身份运算符\n",
    "is，is not\n",
    "*is与==区别：is用于判断两个变量引用对象是否为同一个(同一块内存空间)，==用于判断引用变量的值是否相等"
   ]
  },
  {
   "cell_type": "markdown",
   "id": "a7ebed7e",
   "metadata": {},
   "source": [
    "Python条件语句\n",
    "if...else(elif)...\n",
    "\n",
    "Python循环语句\n",
    "1.while循环\n",
    "2.for循环\n",
    "\n",
    "循环控制语句\n",
    "1.break语句  在语句块执行过程中终止循环，并且跳出整个循环\n",
    "2.continue语句  \t在语句块执行过程中终止当前循环，跳出该次循环，执行下一次循环"
   ]
  }
 ],
 "metadata": {
  "kernelspec": {
   "display_name": "Python 3 (ipykernel)",
   "language": "python",
   "name": "python3"
  },
  "language_info": {
   "codemirror_mode": {
    "name": "ipython",
    "version": 3
   },
   "file_extension": ".py",
   "mimetype": "text/x-python",
   "name": "python",
   "nbconvert_exporter": "python",
   "pygments_lexer": "ipython3",
   "version": "3.9.7"
  }
 },
 "nbformat": 4,
 "nbformat_minor": 5
}
