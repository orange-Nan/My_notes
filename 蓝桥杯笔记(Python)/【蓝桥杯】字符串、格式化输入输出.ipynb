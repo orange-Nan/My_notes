{
 "cells": [
  {
   "cell_type": "code",
   "execution_count": 2,
   "id": "42769900",
   "metadata": {},
   "outputs": [
    {
     "name": "stdout",
     "output_type": "stream",
     "text": [
      "H\n",
      "rld\n"
     ]
    }
   ],
   "source": [
    "#创建字符串\n",
    "var1 = 'Hello'\n",
    "var2 = 'World'\n",
    "\n",
    "#访问字符串\n",
    "print(var1[0])\n",
    "print(var2[2:5])"
   ]
  },
  {
   "cell_type": "code",
   "execution_count": 3,
   "id": "38f90e12",
   "metadata": {},
   "outputs": [
    {
     "name": "stdout",
     "output_type": "stream",
     "text": [
      "HelloWorld\n"
     ]
    }
   ],
   "source": [
    "#字符串拼接\n",
    "var3 = var1+var2\n",
    "print(var3)"
   ]
  },
  {
   "cell_type": "markdown",
   "id": "ac8becd6",
   "metadata": {},
   "source": [
    "#转义字符\n",
    "\\(在行尾时)  续行符\n",
    "\\\\  反斜杠\n",
    "\\'  单引号\n",
    "\\n  换行\n",
    "\\000 空\n",
    "...\n",
    "\n",
    "#格式化符号\n",
    "%s 字符串\n",
    "%f 浮点数\n",
    "%e 科学计数法\n",
    "%d 整数"
   ]
  },
  {
   "cell_type": "code",
   "execution_count": null,
   "id": "24fc54a1",
   "metadata": {},
   "outputs": [],
   "source": [
    "#格式化输入\n",
    "# 整型输入\n",
    "n = int(input())\n",
    "\n",
    "# 浮点输入\n",
    "k = float(input())\n",
    "\n",
    "# 输入三个数，例如：1 2 3\n",
    "a,b,c = map(int,input().split())\n",
    "\n",
    "# 输入一串数字，例如：1 2 3 4 5\n",
    "s = [int(i) for i in input().split()]"
   ]
  },
  {
   "cell_type": "code",
   "execution_count": 3,
   "id": "5ff38225",
   "metadata": {},
   "outputs": [
    {
     "name": "stdout",
     "output_type": "stream",
     "text": [
      "Hello World\n",
      "World Hello World\n",
      "H:Hello,W:World\n",
      "3.14\n",
      "+3.14\n",
      "25.00%\n",
      "2.50e+04\n",
      "1 2 3 4\n",
      "3\n",
      "3.14\n"
     ]
    }
   ],
   "source": [
    "#格式化输出\n",
    "#fotmat格式化函数\n",
    "print('{} {}'.format(var1,var2))  #不设置指定位置，按默认顺序\n",
    "print('{1} {0} {1}'.format(var1,var2))  #设置指定位置\n",
    "print('H:{name1},W:{name2}'.format(name1='Hello',name2=var2)) #设置参数\n",
    "print('{:.2f}'.format(3.1415926)) #保留小数点后两位\n",
    "print('{:+.2f}'.format(3.1415926)) #带符号保留小数点后两位\n",
    "print('{:.2%}'.format(0.25)) #百分比\n",
    "print('{:.2e}'.format(25000)) #指数记法\n",
    "\n",
    "# 隔空输出\n",
    "a = [1,2,3,4]\n",
    "print(' '.join(map(str,a)))\n",
    "\n",
    "# 四舍五入\n",
    "a = 3.1415926\n",
    "print(int(a + 0.5))\n",
    "\n",
    "# 保留两位小数\n",
    "a = 3.1415926\n",
    "print('%.2f'%a)"
   ]
  },
  {
   "cell_type": "markdown",
   "id": "8c3262ef",
   "metadata": {},
   "source": [
    "python字符串内置函数\n",
    "1.string.count(str, beg=0,end=len(string))  返回str在string里面出现的次数，如果beg或end指定则返回指定范围内str出现的次数\n",
    "2.string.find(str, beg=0, end=len(string))  检测str是否包含在string中，如果beg和end指定范围，则检查是否包含在指定范围内，如果是返回开始的索引值，否则返回-1\n",
    "3.string.index(str, beg=0, end=len(string))  跟find()方法一样，只不过如果str不在 string中会报一个异常.\n",
    "4.string.format()  格式化字符串\n",
    "5.string.replace(str1,str2,num=string.count(str1))  把string中的str1替换成str2,如果num指定，则替换不超过num次.\n",
    "6.string.endswith(obj,beg=0,end=len(string))  检查字符串是否以obj结束，如果beg或者end指定则检查指定的范围内是否以obj结束，如果是，返回True,否则返回False.\n",
    "7.string.split(str='', num=string.count(str))  以str为分隔符切片string，如果num有指定值，则仅分隔num+1个子字符串\n",
    "8.string.strip()  去除字符串头尾空格\n",
    "9.string.isdigit() 如果string只包含数字则返回True\n",
    "10.string.isalpha() 如果string只包含字母则返回True\n",
    "11.string.isalnum() 如果string只包含数字或字母则返回True\n",
    "..."
   ]
  },
  {
   "cell_type": "code",
   "execution_count": 1,
   "id": "89c3d406",
   "metadata": {},
   "outputs": [
    {
     "name": "stdout",
     "output_type": "stream",
     "text": [
      "HELLO\n",
      "hello\n",
      "Hello\n",
      "Hello\n"
     ]
    }
   ],
   "source": [
    "#字符串大小写\n",
    "str1 = \"Hello\"\n",
    "print(str1.upper())          # 把所有字符中的小写字母转换成大写字母\n",
    "print(str1.lower())          # 把所有字符中的大写字母转换成小写字母\n",
    "print(str1.capitalize())     # 把第一个字母转化为大写字母，其余小写\n",
    "print(str1.title())          # 把每个单词的第一个字母转化为大写，其余小写 "
   ]
  },
  {
   "cell_type": "code",
   "execution_count": 7,
   "id": "b17b88f1",
   "metadata": {},
   "outputs": [
    {
     "name": "stdout",
     "output_type": "stream",
     "text": [
      "dlroWolleH\n",
      "dlroWolleH\n"
     ]
    }
   ],
   "source": [
    "#字符串反转\n",
    "#使用字符串切片\n",
    "print(var3[::-1])\n",
    "\n",
    "#使用reversed()\n",
    "print(''.join(reversed(var3)))"
   ]
  }
 ],
 "metadata": {
  "kernelspec": {
   "display_name": "Python 3 (ipykernel)",
   "language": "python",
   "name": "python3"
  },
  "language_info": {
   "codemirror_mode": {
    "name": "ipython",
    "version": 3
   },
   "file_extension": ".py",
   "mimetype": "text/x-python",
   "name": "python",
   "nbconvert_exporter": "python",
   "pygments_lexer": "ipython3",
   "version": "3.9.7"
  }
 },
 "nbformat": 4,
 "nbformat_minor": 5
}
