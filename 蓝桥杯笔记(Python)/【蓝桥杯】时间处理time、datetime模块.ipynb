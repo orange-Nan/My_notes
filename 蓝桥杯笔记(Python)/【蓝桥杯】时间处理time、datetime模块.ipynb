{
 "cells": [
  {
   "cell_type": "markdown",
   "id": "871c3384",
   "metadata": {},
   "source": [
    "time模块常用函数\n",
    "1.time.strptime(str,fmt)  字符串→时间元组\n",
    "根据fmt的格式把一个时间字符串解析为时间元组(struct_time)\n",
    "2.time.strftime(fmt,tupletime)  时间元组→字符串"
   ]
  },
  {
   "cell_type": "code",
   "execution_count": 5,
   "id": "678a6b49",
   "metadata": {},
   "outputs": [
    {
     "name": "stdout",
     "output_type": "stream",
     "text": [
      "time.struct_time(tm_year=2020, tm_mon=1, tm_mday=1, tm_hour=1, tm_min=0, tm_sec=0, tm_wday=2, tm_yday=1, tm_isdst=-1)\n",
      "2020\n"
     ]
    }
   ],
   "source": [
    "import time\n",
    "\n",
    "time1 = time.strptime('2020/01/01 1:00:00','%Y/%m/%d %H:%M:%S')\n",
    "print(time1)\n",
    "\n",
    "year = time.strftime('%Y%m%d',time1)\n",
    "print(year)"
   ]
  },
  {
   "cell_type": "markdown",
   "id": "77ba66f3",
   "metadata": {},
   "source": [
    "datetime模块常用函数\n",
    "1.dt.datetime.strptime(str,fmt)  字符串→时间戳\n",
    "2.dt.timedelta  时间运算\n",
    "3.dt.strftime(fmt)  格式化datetime对象"
   ]
  },
  {
   "cell_type": "code",
   "execution_count": 8,
   "id": "44819554",
   "metadata": {},
   "outputs": [
    {
     "name": "stdout",
     "output_type": "stream",
     "text": [
      "1800-01-01 00:00:00\n",
      "1854-02-01 00:00:00\n",
      "1854/02/01\n"
     ]
    }
   ],
   "source": [
    "import datetime as dt\n",
    "\n",
    "start_day = dt.datetime.strptime('1800-1-1', '%Y-%m-%d')\n",
    "day1 = start_day + dt.timedelta(days=19754)\n",
    "day1_out = day1.strftime('%Y/%m/%d')\n",
    "\n",
    "print(start_day)\n",
    "print(day1)\n",
    "print(day1_out)"
   ]
  },
  {
   "cell_type": "markdown",
   "id": "fff6e4b1",
   "metadata": {},
   "source": [
    "根据日期确定星期几\n",
    "weekday：0-6代表星期一至星期日"
   ]
  },
  {
   "cell_type": "code",
   "execution_count": 14,
   "id": "96b427e4",
   "metadata": {},
   "outputs": [
    {
     "name": "stdout",
     "output_type": "stream",
     "text": [
      "2\n",
      "星期三\n",
      "Wednesday\n"
     ]
    }
   ],
   "source": [
    "#利用weekday()\n",
    "print(day1.weekday())\n",
    "\n",
    "week_list = ['星期一','星期二','星期三','星期四','星期五','星期六','星期日']\n",
    "print(week_list[day1.weekday()])\n",
    "\n",
    "#直接输出\n",
    "print(day1.strftime('%A'))"
   ]
  },
  {
   "cell_type": "code",
   "execution_count": null,
   "id": "a12b105e",
   "metadata": {},
   "outputs": [],
   "source": []
  }
 ],
 "metadata": {
  "kernelspec": {
   "display_name": "Python 3 (ipykernel)",
   "language": "python",
   "name": "python3"
  },
  "language_info": {
   "codemirror_mode": {
    "name": "ipython",
    "version": 3
   },
   "file_extension": ".py",
   "mimetype": "text/x-python",
   "name": "python",
   "nbconvert_exporter": "python",
   "pygments_lexer": "ipython3",
   "version": "3.9.7"
  }
 },
 "nbformat": 4,
 "nbformat_minor": 5
}
